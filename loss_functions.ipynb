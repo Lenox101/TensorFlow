{
 "cells": [
  {
   "cell_type": "code",
   "execution_count": 2,
   "metadata": {},
   "outputs": [],
   "source": [
    "import numpy as np\n",
    "\n",
    "y_predicted = np.array([1,1,0,0,1])\n",
    "y_true = np.array([0.30,0.7,1,0,0.5])"
   ]
  },
  {
   "cell_type": "markdown",
   "metadata": {},
   "source": [
    "Mean absolute Error Loss Function"
   ]
  },
  {
   "cell_type": "code",
   "execution_count": 11,
   "metadata": {},
   "outputs": [],
   "source": [
    "# def mean_a_err(y_true, y_predict):\n",
    "#     return np.mean(np.abs(y_true - y_predict))\n",
    "#or\n",
    "def mean_a_err(y_true, y_predict):\n",
    "    total_error = 0\n",
    "    for yt, yp in zip(y_true, y_predicted): #iterates between the true values and the predicted values in a parallel manner\n",
    "        total_error += abs(yt - yp)\n",
    "\n",
    "    print(\"Absolute error is:\",total_error / len(y_true))\n",
    "    print(\"Total error is:\", total_error)"
   ]
  },
  {
   "cell_type": "code",
   "execution_count": 12,
   "metadata": {},
   "outputs": [
    {
     "name": "stdout",
     "output_type": "stream",
     "text": [
      "Absolute error is: 0.5\n",
      "Total error is: 2.5\n"
     ]
    }
   ],
   "source": [
    "mean_a_err(y_true, y_predicted)"
   ]
  },
  {
   "cell_type": "code",
   "execution_count": 13,
   "metadata": {},
   "outputs": [
    {
     "data": {
      "text/plain": [
       "array([0.7, 0.3, 1. , 0. , 0.5])"
      ]
     },
     "execution_count": 13,
     "metadata": {},
     "output_type": "execute_result"
    }
   ],
   "source": [
    "np.abs(y_true - y_predicted)"
   ]
  },
  {
   "cell_type": "markdown",
   "metadata": {},
   "source": [
    "Defining Binary Cross Entropy Loss function"
   ]
  },
  {
   "cell_type": "code",
   "execution_count": 18,
   "metadata": {},
   "outputs": [],
   "source": [
    "def binary_cross_entropy(y_true, y_predicted):\n",
    "    # Clip y_predicted to avoid log(0) which is undefined\n",
    "    epsilon = 1e-15\n",
    "    y_predicted = np.clip(y_predicted, epsilon, 1 - epsilon)\n",
    "    \n",
    "    # Compute binary cross entropy\n",
    "    bce = -np.mean(y_true * np.log(y_predicted) + (1 - y_true) * np.log(1 - y_predicted))\n",
    "    \n",
    "    return bce"
   ]
  },
  {
   "cell_type": "code",
   "execution_count": 19,
   "metadata": {},
   "outputs": [
    {
     "name": "stdout",
     "output_type": "stream",
     "text": [
      "17.2696280766844\n"
     ]
    }
   ],
   "source": [
    "print(binary_cross_entropy(y_true, y_predicted))"
   ]
  }
 ],
 "metadata": {
  "kernelspec": {
   "display_name": "Python 3",
   "language": "python",
   "name": "python3"
  },
  "language_info": {
   "codemirror_mode": {
    "name": "ipython",
    "version": 3
   },
   "file_extension": ".py",
   "mimetype": "text/x-python",
   "name": "python",
   "nbconvert_exporter": "python",
   "pygments_lexer": "ipython3",
   "version": "3.12.3"
  }
 },
 "nbformat": 4,
 "nbformat_minor": 2
}
